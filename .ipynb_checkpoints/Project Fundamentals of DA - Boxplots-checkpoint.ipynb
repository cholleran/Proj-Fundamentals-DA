{
 "cells": [
  {
   "cell_type": "code",
   "execution_count": 1,
   "metadata": {},
   "outputs": [],
   "source": [
    "import matplotlib.pyplot as plt\n",
    "import numpy as np\n",
    "import pandas as pd\n",
    "import seaborn as sns\n"
   ]
  },
  {
   "cell_type": "markdown",
   "metadata": {},
   "source": [
    "#### Q1. Summarise the history of the box plot and situations in which it used."
   ]
  },
  {
   "cell_type": "markdown",
   "metadata": {},
   "source": [
    "The box plot was devised by renowned American statistician John Tukey and described in his 1977 book \"Exploratory Data Analysis\". Tukey promoted this type of data analysis as a more inductive way to gain insights from data using visual devices such as the box plot [3].\n",
    "\n",
    "The box plot or 'box and whisker plot' as it is often known is a simple and clever way of providing a snapshot visualisation of the most important characteristics of a dataset [4]. A box plot consists two lines at both ends which resemble a cat's 'whiskers'and a box showing the position of the values in the distribution. The box plot is used to visualise a 'Five-figure Summary' of continuous numerical data [5]. Continuous data are usually measurements of a single variable e.g. height or weight or life span.  The five-figure summary describes the range and spread of a variable and is very useful for making comparisons between datasets [5]. The five-figure summary is reflected by the position of the horizontal lines on the box plot and will be discussed further in the answer to Question 3.\n",
    "\n"
   ]
  },
  {
   "cell_type": "markdown",
   "metadata": {},
   "source": [
    "#### Q2 . Demonstrate the use of the box plot using data of your choosing."
   ]
  },
  {
   "cell_type": "code",
   "execution_count": 2,
   "metadata": {},
   "outputs": [],
   "source": [
    "USPres = pd.read_csv('height_presidents.csv') # csv file created from table on wikipedia"
   ]
  },
  {
   "cell_type": "markdown",
   "metadata": {},
   "source": [
    "#### Height of US Presidents - Dataframe\n",
    "\n",
    "The distribution of heights of U.S. presidents will be compared to height of their opponents who lost the election [6]. Box plots will be used to plot visual comparisons between the two distributions i.e. winning candidates and losing candidates. It is interesting to make this comparison while considering the hypothesis that taller candidates are more successful in presidential elections. The pandas dataframe below shows the heights of all American presidents to date."
   ]
  },
  {
   "cell_type": "code",
   "execution_count": 3,
   "metadata": {},
   "outputs": [
    {
     "data": {
      "text/html": [
       "<div>\n",
       "<style scoped>\n",
       "    .dataframe tbody tr th:only-of-type {\n",
       "        vertical-align: middle;\n",
       "    }\n",
       "\n",
       "    .dataframe tbody tr th {\n",
       "        vertical-align: top;\n",
       "    }\n",
       "\n",
       "    .dataframe thead th {\n",
       "        text-align: right;\n",
       "    }\n",
       "</style>\n",
       "<table border=\"1\" class=\"dataframe\">\n",
       "  <thead>\n",
       "    <tr style=\"text-align: right;\">\n",
       "      <th></th>\n",
       "      <th>Rank</th>\n",
       "      <th>No.</th>\n",
       "      <th>President</th>\n",
       "      <th>Height</th>\n",
       "    </tr>\n",
       "  </thead>\n",
       "  <tbody>\n",
       "    <tr>\n",
       "      <th>0</th>\n",
       "      <td>44</td>\n",
       "      <td>4</td>\n",
       "      <td>James Madison</td>\n",
       "      <td>163 cm</td>\n",
       "    </tr>\n",
       "    <tr>\n",
       "      <th>1</th>\n",
       "      <td>42</td>\n",
       "      <td>8</td>\n",
       "      <td>Martin Van Buren</td>\n",
       "      <td>168 cm</td>\n",
       "    </tr>\n",
       "    <tr>\n",
       "      <th>2</th>\n",
       "      <td>42</td>\n",
       "      <td>23</td>\n",
       "      <td>Benjamin Harrison</td>\n",
       "      <td>168 cm</td>\n",
       "    </tr>\n",
       "    <tr>\n",
       "      <th>3</th>\n",
       "      <td>40</td>\n",
       "      <td>2</td>\n",
       "      <td>John Adams</td>\n",
       "      <td>170 cm</td>\n",
       "    </tr>\n",
       "    <tr>\n",
       "      <th>4</th>\n",
       "      <td>40</td>\n",
       "      <td>25</td>\n",
       "      <td>William McKinley</td>\n",
       "      <td>170 cm</td>\n",
       "    </tr>\n",
       "    <tr>\n",
       "      <th>5</th>\n",
       "      <td>39</td>\n",
       "      <td>6</td>\n",
       "      <td>John Quincy Adams</td>\n",
       "      <td>171 cm</td>\n",
       "    </tr>\n",
       "    <tr>\n",
       "      <th>6</th>\n",
       "      <td>35</td>\n",
       "      <td>9</td>\n",
       "      <td>William Henry Harrison</td>\n",
       "      <td>173 cm</td>\n",
       "    </tr>\n",
       "    <tr>\n",
       "      <th>7</th>\n",
       "      <td>35</td>\n",
       "      <td>11</td>\n",
       "      <td>James K. Polk</td>\n",
       "      <td>173 cm</td>\n",
       "    </tr>\n",
       "    <tr>\n",
       "      <th>8</th>\n",
       "      <td>35</td>\n",
       "      <td>12</td>\n",
       "      <td>Zachary Taylor</td>\n",
       "      <td>173 cm</td>\n",
       "    </tr>\n",
       "    <tr>\n",
       "      <th>9</th>\n",
       "      <td>35</td>\n",
       "      <td>18</td>\n",
       "      <td>Ulysses S. Grant</td>\n",
       "      <td>173 cm</td>\n",
       "    </tr>\n",
       "    <tr>\n",
       "      <th>10</th>\n",
       "      <td>34</td>\n",
       "      <td>19</td>\n",
       "      <td>Rutherford B. Hayes</td>\n",
       "      <td>174 cm</td>\n",
       "    </tr>\n",
       "    <tr>\n",
       "      <th>11</th>\n",
       "      <td>32</td>\n",
       "      <td>13</td>\n",
       "      <td>Millard Fillmore</td>\n",
       "      <td>175 cm</td>\n",
       "    </tr>\n",
       "    <tr>\n",
       "      <th>12</th>\n",
       "      <td>32</td>\n",
       "      <td>33</td>\n",
       "      <td>Harry S. Truman</td>\n",
       "      <td>175 cm</td>\n",
       "    </tr>\n",
       "    <tr>\n",
       "      <th>13</th>\n",
       "      <td>31</td>\n",
       "      <td>39</td>\n",
       "      <td>Jimmy Carter</td>\n",
       "      <td>177 cm</td>\n",
       "    </tr>\n",
       "    <tr>\n",
       "      <th>14</th>\n",
       "      <td>27</td>\n",
       "      <td>14</td>\n",
       "      <td>Franklin Pierce</td>\n",
       "      <td>178 cm</td>\n",
       "    </tr>\n",
       "    <tr>\n",
       "      <th>15</th>\n",
       "      <td>27</td>\n",
       "      <td>17</td>\n",
       "      <td>Andrew Johnson</td>\n",
       "      <td>178 cm</td>\n",
       "    </tr>\n",
       "    <tr>\n",
       "      <th>16</th>\n",
       "      <td>27</td>\n",
       "      <td>26</td>\n",
       "      <td>Theodore Roosevelt</td>\n",
       "      <td>178 cm</td>\n",
       "    </tr>\n",
       "    <tr>\n",
       "      <th>17</th>\n",
       "      <td>27</td>\n",
       "      <td>30</td>\n",
       "      <td>Calvin Coolidge</td>\n",
       "      <td>178 cm</td>\n",
       "    </tr>\n",
       "    <tr>\n",
       "      <th>18</th>\n",
       "      <td>26</td>\n",
       "      <td>34</td>\n",
       "      <td>Dwight D. Eisenhower</td>\n",
       "      <td>179 cm</td>\n",
       "    </tr>\n",
       "    <tr>\n",
       "      <th>19</th>\n",
       "      <td>24</td>\n",
       "      <td>22, 24</td>\n",
       "      <td>Grover Cleveland</td>\n",
       "      <td>180 cm</td>\n",
       "    </tr>\n",
       "    <tr>\n",
       "      <th>20</th>\n",
       "      <td>24</td>\n",
       "      <td>28</td>\n",
       "      <td>Woodrow Wilson</td>\n",
       "      <td>180 cm</td>\n",
       "    </tr>\n",
       "    <tr>\n",
       "      <th>21</th>\n",
       "      <td>20</td>\n",
       "      <td>27</td>\n",
       "      <td>William Howard Taft</td>\n",
       "      <td>182 cm</td>\n",
       "    </tr>\n",
       "    <tr>\n",
       "      <th>22</th>\n",
       "      <td>20</td>\n",
       "      <td>31</td>\n",
       "      <td>Herbert Hoover</td>\n",
       "      <td>182 cm</td>\n",
       "    </tr>\n",
       "    <tr>\n",
       "      <th>23</th>\n",
       "      <td>20</td>\n",
       "      <td>37</td>\n",
       "      <td>Richard Nixon</td>\n",
       "      <td>182 cm</td>\n",
       "    </tr>\n",
       "    <tr>\n",
       "      <th>24</th>\n",
       "      <td>20</td>\n",
       "      <td>43</td>\n",
       "      <td>George W. Bush</td>\n",
       "      <td>182 cm</td>\n",
       "    </tr>\n",
       "    <tr>\n",
       "      <th>25</th>\n",
       "      <td>14</td>\n",
       "      <td>5</td>\n",
       "      <td>James Monroe</td>\n",
       "      <td>183 cm</td>\n",
       "    </tr>\n",
       "    <tr>\n",
       "      <th>26</th>\n",
       "      <td>14</td>\n",
       "      <td>10</td>\n",
       "      <td>John Tyler</td>\n",
       "      <td>183 cm</td>\n",
       "    </tr>\n",
       "    <tr>\n",
       "      <th>27</th>\n",
       "      <td>14</td>\n",
       "      <td>15</td>\n",
       "      <td>James Buchanan</td>\n",
       "      <td>183 cm</td>\n",
       "    </tr>\n",
       "    <tr>\n",
       "      <th>28</th>\n",
       "      <td>14</td>\n",
       "      <td>20</td>\n",
       "      <td>James A. Garfield</td>\n",
       "      <td>183 cm</td>\n",
       "    </tr>\n",
       "    <tr>\n",
       "      <th>29</th>\n",
       "      <td>14</td>\n",
       "      <td>29</td>\n",
       "      <td>Warren G. Harding</td>\n",
       "      <td>183 cm</td>\n",
       "    </tr>\n",
       "    <tr>\n",
       "      <th>30</th>\n",
       "      <td>14</td>\n",
       "      <td>38</td>\n",
       "      <td>Gerald Ford</td>\n",
       "      <td>183 cm</td>\n",
       "    </tr>\n",
       "    <tr>\n",
       "      <th>31</th>\n",
       "      <td>10</td>\n",
       "      <td>7</td>\n",
       "      <td>Andrew Jackson</td>\n",
       "      <td>185 cm</td>\n",
       "    </tr>\n",
       "    <tr>\n",
       "      <th>32</th>\n",
       "      <td>10</td>\n",
       "      <td>35</td>\n",
       "      <td>John F. Kennedy</td>\n",
       "      <td>185 cm</td>\n",
       "    </tr>\n",
       "    <tr>\n",
       "      <th>33</th>\n",
       "      <td>10</td>\n",
       "      <td>40</td>\n",
       "      <td>Ronald Reagan</td>\n",
       "      <td>185 cm</td>\n",
       "    </tr>\n",
       "    <tr>\n",
       "      <th>34</th>\n",
       "      <td>10</td>\n",
       "      <td>44</td>\n",
       "      <td>Barack Obama</td>\n",
       "      <td>185 cm</td>\n",
       "    </tr>\n",
       "    <tr>\n",
       "      <th>35</th>\n",
       "      <td>5</td>\n",
       "      <td>1</td>\n",
       "      <td>George Washington</td>\n",
       "      <td>188 cm</td>\n",
       "    </tr>\n",
       "    <tr>\n",
       "      <th>36</th>\n",
       "      <td>5</td>\n",
       "      <td>21</td>\n",
       "      <td>Chester A. Arthur</td>\n",
       "      <td>188 cm</td>\n",
       "    </tr>\n",
       "    <tr>\n",
       "      <th>37</th>\n",
       "      <td>5</td>\n",
       "      <td>32</td>\n",
       "      <td>Franklin D. Roosevelt</td>\n",
       "      <td>188 cm</td>\n",
       "    </tr>\n",
       "    <tr>\n",
       "      <th>38</th>\n",
       "      <td>5</td>\n",
       "      <td>41</td>\n",
       "      <td>George H. W. Bush</td>\n",
       "      <td>188 cm</td>\n",
       "    </tr>\n",
       "    <tr>\n",
       "      <th>39</th>\n",
       "      <td>5</td>\n",
       "      <td>42</td>\n",
       "      <td>Bill Clinton</td>\n",
       "      <td>188 cm</td>\n",
       "    </tr>\n",
       "    <tr>\n",
       "      <th>40</th>\n",
       "      <td>4</td>\n",
       "      <td>3</td>\n",
       "      <td>Thomas Jefferson</td>\n",
       "      <td>189 cm</td>\n",
       "    </tr>\n",
       "    <tr>\n",
       "      <th>41</th>\n",
       "      <td>3</td>\n",
       "      <td>45</td>\n",
       "      <td>Donald Trump</td>\n",
       "      <td>191 cm</td>\n",
       "    </tr>\n",
       "    <tr>\n",
       "      <th>42</th>\n",
       "      <td>2</td>\n",
       "      <td>36</td>\n",
       "      <td>Lyndon B. Johnson</td>\n",
       "      <td>192 cm</td>\n",
       "    </tr>\n",
       "    <tr>\n",
       "      <th>43</th>\n",
       "      <td>1</td>\n",
       "      <td>16</td>\n",
       "      <td>Abraham Lincoln</td>\n",
       "      <td>193 cm</td>\n",
       "    </tr>\n",
       "  </tbody>\n",
       "</table>\n",
       "</div>"
      ],
      "text/plain": [
       "    Rank     No.               President Height \n",
       "0     44       4           James Madison  163 cm\n",
       "1     42       8        Martin Van Buren  168 cm\n",
       "2     42      23       Benjamin Harrison  168 cm\n",
       "3     40       2              John Adams  170 cm\n",
       "4     40      25        William McKinley  170 cm\n",
       "5     39       6       John Quincy Adams  171 cm\n",
       "6     35       9  William Henry Harrison  173 cm\n",
       "7     35      11           James K. Polk  173 cm\n",
       "8     35      12          Zachary Taylor  173 cm\n",
       "9     35      18        Ulysses S. Grant  173 cm\n",
       "10    34      19     Rutherford B. Hayes  174 cm\n",
       "11    32      13        Millard Fillmore  175 cm\n",
       "12    32      33         Harry S. Truman  175 cm\n",
       "13    31      39            Jimmy Carter  177 cm\n",
       "14    27      14         Franklin Pierce  178 cm\n",
       "15    27      17          Andrew Johnson  178 cm\n",
       "16    27      26      Theodore Roosevelt  178 cm\n",
       "17    27      30         Calvin Coolidge  178 cm\n",
       "18    26      34    Dwight D. Eisenhower  179 cm\n",
       "19    24  22, 24        Grover Cleveland  180 cm\n",
       "20    24      28          Woodrow Wilson  180 cm\n",
       "21    20      27     William Howard Taft  182 cm\n",
       "22    20      31          Herbert Hoover  182 cm\n",
       "23    20      37           Richard Nixon  182 cm\n",
       "24    20      43          George W. Bush  182 cm\n",
       "25    14       5            James Monroe  183 cm\n",
       "26    14      10              John Tyler  183 cm\n",
       "27    14      15          James Buchanan  183 cm\n",
       "28    14      20       James A. Garfield  183 cm\n",
       "29    14      29       Warren G. Harding  183 cm\n",
       "30    14      38             Gerald Ford  183 cm\n",
       "31    10       7          Andrew Jackson  185 cm\n",
       "32    10      35         John F. Kennedy  185 cm\n",
       "33    10      40           Ronald Reagan  185 cm\n",
       "34    10      44            Barack Obama  185 cm\n",
       "35     5       1       George Washington  188 cm\n",
       "36     5      21       Chester A. Arthur  188 cm\n",
       "37     5      32   Franklin D. Roosevelt  188 cm\n",
       "38     5      41       George H. W. Bush  188 cm\n",
       "39     5      42            Bill Clinton  188 cm\n",
       "40     4       3        Thomas Jefferson  189 cm\n",
       "41     3      45            Donald Trump  191 cm\n",
       "42     2      36       Lyndon B. Johnson  192 cm\n",
       "43     1      16         Abraham Lincoln  193 cm"
      ]
     },
     "execution_count": 3,
     "metadata": {},
     "output_type": "execute_result"
    }
   ],
   "source": [
    "USPres # Pandas dataframe containing heights of U.S. presidents from Wikipedia"
   ]
  },
  {
   "cell_type": "code",
   "execution_count": 4,
   "metadata": {},
   "outputs": [],
   "source": [
    "heights = USPres.iloc[:,3] # use column index slicing to assign height col from Pandas df to new variable"
   ]
  },
  {
   "cell_type": "code",
   "execution_count": 5,
   "metadata": {},
   "outputs": [
    {
     "data": {
      "text/plain": [
       "0     163 cm\n",
       "1     168 cm\n",
       "2     168 cm\n",
       "3     170 cm\n",
       "4     170 cm\n",
       "5     171 cm\n",
       "6     173 cm\n",
       "7     173 cm\n",
       "8     173 cm\n",
       "9     173 cm\n",
       "10    174 cm\n",
       "11    175 cm\n",
       "12    175 cm\n",
       "13    177 cm\n",
       "14    178 cm\n",
       "15    178 cm\n",
       "16    178 cm\n",
       "17    178 cm\n",
       "18    179 cm\n",
       "19    180 cm\n",
       "20    180 cm\n",
       "21    182 cm\n",
       "22    182 cm\n",
       "23    182 cm\n",
       "24    182 cm\n",
       "25    183 cm\n",
       "26    183 cm\n",
       "27    183 cm\n",
       "28    183 cm\n",
       "29    183 cm\n",
       "30    183 cm\n",
       "31    185 cm\n",
       "32    185 cm\n",
       "33    185 cm\n",
       "34    185 cm\n",
       "35    188 cm\n",
       "36    188 cm\n",
       "37    188 cm\n",
       "38    188 cm\n",
       "39    188 cm\n",
       "40    189 cm\n",
       "41    191 cm\n",
       "42    192 cm\n",
       "43    193 cm\n",
       "Name: Height , dtype: object"
      ]
     },
     "execution_count": 5,
     "metadata": {},
     "output_type": "execute_result"
    }
   ],
   "source": [
    "heights # heights of U.S. presidents sliced from dataframe"
   ]
  },
  {
   "cell_type": "code",
   "execution_count": 6,
   "metadata": {},
   "outputs": [],
   "source": [
    "data = [] # new list for numeric height data\n",
    "for i in heights:\n",
    "    i = int(i[0:3]) # traverse 'heights' and convert numeric part to integer\n",
    "    data.append(i) # Append numeric slice to new list\n",
    "    "
   ]
  },
  {
   "cell_type": "code",
   "execution_count": 7,
   "metadata": {},
   "outputs": [
    {
     "data": {
      "text/plain": [
       "'replace col in df with integer values, \\nso we can call describe and plot more easily'"
      ]
     },
     "execution_count": 7,
     "metadata": {},
     "output_type": "execute_result"
    }
   ],
   "source": [
    "USPres['Height'] = data \n",
    "'''replace col in df with integer values, \n",
    "so we can call describe and plot more easily'''"
   ]
  },
  {
   "cell_type": "code",
   "execution_count": 8,
   "metadata": {},
   "outputs": [
    {
     "data": {
      "text/plain": [
       "count     44.000000\n",
       "mean     180.113636\n",
       "std        7.104587\n",
       "min      163.000000\n",
       "25%      174.750000\n",
       "50%      182.000000\n",
       "75%      185.000000\n",
       "max      193.000000\n",
       "Name: Height, dtype: float64"
      ]
     },
     "execution_count": 8,
     "metadata": {},
     "output_type": "execute_result"
    }
   ],
   "source": [
    "USPres['Height'].describe() #out of 44 presidents, the average height was 180cm!"
   ]
  },
  {
   "cell_type": "markdown",
   "metadata": {},
   "source": [
    "#### Box Plot of Height Distribution - U.S. Presidents\n",
    "\n",
    "Below we can see a visual snapshot of the height distribution of all 44 U.S. presidents.  The shortest height or lower extreme (El) is 163cm indicated by the 'whisker' - horizontal line on the bottom of the box plot [5]. 25% of presidents ranged in height from 163cm to 175cm.  We know this because the first quartile (Q1) is 175cm, which is one quarter way through the distribution [5].\n",
    "The median (Md) height (182cm) also known as the second quartile (Q2), is represented by the horizontal line in the centre of the box. The median is the central value in the distribution when it is ordered, and therefore 50% of presidents were taller than 182cm, and 50% were shorter. The upper quartile (Q3) shown by the line above the median (185cm) is 75% of the way through the heights from smallest to largest.  It also represents the median or 'middle' value of the 22 tallest presidents. Finally, the upper extreme (Eu) is indicated by the 'whisker' at the top of the scale [5]."
   ]
  },
  {
   "cell_type": "code",
   "execution_count": 9,
   "metadata": {},
   "outputs": [
    {
     "data": {
      "text/plain": [
       "<matplotlib.axes._subplots.AxesSubplot at 0x22eff8f5048>"
      ]
     },
     "execution_count": 9,
     "metadata": {},
     "output_type": "execute_result"
    },
    {
     "data": {
      "image/png": "[encoded data removed]",
      "text/plain": [
       "<Figure size 432x288 with 1 Axes>"
      ]
     },
     "metadata": {},
     "output_type": "display_data"
    }
   ],
   "source": [
    "plt.title('''Height Distribution \n",
    "US Presidents''')\n",
    "plt.ylabel('Centimetres')\n",
    "sns.boxplot(data=data)"
   ]
  },
  {
   "cell_type": "code",
   "execution_count": 10,
   "metadata": {},
   "outputs": [
    {
     "data": {
      "text/plain": [
       "<matplotlib.axes._subplots.AxesSubplot at 0x22eff986780>"
      ]
     },
     "execution_count": 10,
     "metadata": {},
     "output_type": "execute_result"
    },
    {
     "data": {
      "image/png": "[encoded data removed]",
      "text/plain": [
       "<Figure size 432x288 with 1 Axes>"
      ]
     },
     "metadata": {},
     "output_type": "display_data"
    }
   ],
   "source": [
    "sns.distplot(data)"
   ]
  },
  {
   "cell_type": "markdown",
   "metadata": {},
   "source": [
    "#### Opponents' Heights\n",
    "\n",
    "The Pandas dataframe 'data1' contains a list of heights of the losing candidates who ran for U.S. president.  It is important to note that there are more than 44 values in this distribution."
   ]
  },
  {
   "cell_type": "code",
   "execution_count": 11,
   "metadata": {},
   "outputs": [],
   "source": [
    "data1 = pd.read_csv('opponent_height.csv') # the losing candidates' heights created from wikipedia.\n"
   ]
  },
  {
   "cell_type": "code",
   "execution_count": 12,
   "metadata": {},
   "outputs": [],
   "source": [
    "height_opp = data1.iloc[:,4] # created variable containing heights of losing candidates\n"
   ]
  },
  {
   "cell_type": "code",
   "execution_count": 13,
   "metadata": {},
   "outputs": [],
   "source": [
    "opp = []\n",
    "for i in height_opp:\n",
    "    i = str(i)\n",
    "    opp.append(i[0:3]) # selected heights and converted to integers.\n",
    "   \n",
    "opp = pd.DataFrame(opp)\n",
    "opp.replace([\"nan\"], np.nan, inplace = True) # replaced \"nan\" values with numpy.nan for dropna() to work [7]\n",
    "opp = opp.dropna() # Removes all NaN (missing values) from the dataframe [8].\n",
    "\n",
    "\n",
    "opp = opp.astype(int)"
   ]
  },
  {
   "cell_type": "code",
   "execution_count": 14,
   "metadata": {},
   "outputs": [
    {
     "data": {
      "image/png": "[encoded data removed]",
      "text/plain": [
       "<Figure size 432x288 with 2 Axes>"
      ]
     },
     "metadata": {},
     "output_type": "display_data"
    }
   ],
   "source": [
    "fig = plt.figure() # created matplotlib figure with two subplots [9]\n",
    "ax1 = fig.add_subplot(1, 2, 1)\n",
    "ax2 = fig.add_subplot(1, 2, 2)\n",
    "ax1.set(ylim=(150, 200)) # standardized the y-axis for both subplots\n",
    "ax2.set(ylim=(150, 200)) \n",
    "\n",
    "ax1.set_title('Loser')\n",
    "ax1.set_ylabel('Height Centimetres')\n",
    "ax1 = sns.boxplot(data=opp, ax=ax1, color='red') \n",
    " \n",
    "'''Used Seaborn to visualize height distribution of presidents next to \n",
    "distribution of losing candidates '''    \n",
    "\n",
    "ax2.set_title('Winner')\n",
    "ax2 = sns.boxplot(data=data, ax=ax2,  color='blue')"
   ]
  },
  {
   "cell_type": "markdown",
   "metadata": {},
   "source": [
    "#### Side-by-side Plots of Presidential Candidate Distributions (above)\n",
    "\n",
    "Observing box plots of both distributions side-by-side, it is fascinating to note that the median of 'Winner' is higher by 2cm.  Therefore, it is true that the winning candidates in U.S. presidential elections tend to be marginally taller than the losing candidates.  However, this is not true in all cases and in fact the tallest losing candidate (196cm) was taller than the tallest person who became president (193cm) [6]."
   ]
  },
  {
   "cell_type": "markdown",
   "metadata": {},
   "source": [
    "#### 3. Explain any relevant terminology such as the terms quartile and percentile."
   ]
  },
  {
   "cell_type": "markdown",
   "metadata": {},
   "source": [
    "##### Quartile:  \n",
    "\n",
    "The box plot is divided into four equal quartiles. Each quartile contains 25% of the observations. Each quartile contains an equal number of values which must be 25%. The quartile is calculated as the average of the two values where the quartile falls [10] [11]. For example, if we have a distribution: 2, 4, 5, 8, 11, 16, 20. The lower quartile (Q1) is the average of 4+5/2=4.5, the median or middle quartile (Q2) is 8 i.e. the value in the centre of the distribution [5]. Finally, the upper quartile (Q3) is 11+16/2= 13.5.\n",
    "\n",
    "Ex.1 Quartiles -\n",
    "The box plot below visualises the range and spread of the data in the numpy array, 'quartiles'. It shows that the range of the variable 'quartiles' is from 2-20.  It tells us that 25% data is in Q1 between 2-4.5, a further 25% of the data is concentrated in Q2 between 4.5-8 and Q3 contains the range 8-13.5. In this example the distribution is skewed to the right, meaning that most of the observations are on the low end of the scale from 2-20 [10]."
   ]
  },
  {
   "cell_type": "code",
   "execution_count": 15,
   "metadata": {},
   "outputs": [
    {
     "data": {
      "text/plain": [
       "Text(15,2,'Median')"
      ]
     },
     "execution_count": 15,
     "metadata": {},
     "output_type": "execute_result"
    },
    {
     "data": {
      "image/png": "[encoded data removed]",
      "text/plain": [
       "<Figure size 432x288 with 1 Axes>"
      ]
     },
     "metadata": {},
     "output_type": "display_data"
    }
   ],
   "source": [
    "# Ex.1 Quartiles\n",
    "quartiles = [2, 4, 5, 8, 11, 16, 20] # Ex.1\n",
    "np.array(quartiles) # created numpy array from list\n",
    "plt.title('Ex 1. Quartiles')\n",
    "plt.xlabel('Range')\n",
    "sns.boxplot(data=quartiles, color='orange', orient='h') # used kwarg 'orient' to set horizontal box plot [12]\n",
    "plt.annotate('Median', # text to annotate using Matplotlibs annotate method [13]\n",
    "             xy=(8, 0),  # location of arrow\n",
    "             xytext=(15,2),\n",
    "             textcoords='offset points',\n",
    "             arrowprops=dict(arrowstyle=\"->\"))\n"
   ]
  },
  {
   "cell_type": "markdown",
   "metadata": {},
   "source": [
    "#### Percentiles:\n",
    "\n",
    "When an array/list is sorted from smallest to largest, the percentile is used as a measure of how large a number in an array is compared with other numbers in the list. For example an array containing numbers from 1-100.  The number 50.5 is the 50th percentile, which is larger than 50% of the other numbers in the array. The number 70.3 is the 70th percentile, which is larger than the other 70% of numbers in the array [14]. The following two examples use numpy's percentile method to calculate example percentiles [15].\n",
    "\n"
   ]
  },
  {
   "cell_type": "code",
   "execution_count": 16,
   "metadata": {},
   "outputs": [
    {
     "data": {
      "text/plain": [
       "70.3"
      ]
     },
     "execution_count": 16,
     "metadata": {},
     "output_type": "execute_result"
    }
   ],
   "source": [
    "#Percentiles - Ex.1\n",
    "one_hundred = np.arange(1,101) # Create an array of one-hundred data points from 1-100.\n",
    "np.percentile(one_hundred, 70) # Example function calculates 70th percentile of numbers 1-100.\n",
    "\n"
   ]
  },
  {
   "cell_type": "code",
   "execution_count": 17,
   "metadata": {},
   "outputs": [
    {
     "data": {
      "text/plain": [
       "48.0"
      ]
     },
     "execution_count": 17,
     "metadata": {},
     "output_type": "execute_result"
    }
   ],
   "source": [
    "#Percentiles - Ex. 2\n",
    "age = [25,40,41,47,52] # The 80th percentile in this list of five values is 48\n",
    "np.percentile(age, 80) # Each ascending number in the list increments the percentile by 20%"
   ]
  },
  {
   "cell_type": "markdown",
   "metadata": {},
   "source": [
    "#### 4. Compare the box plot to alternatives.\n",
    "\n",
    "Some of the alternatives to Box Plots are:\n",
    "\n",
    "1. Histograms\n",
    "2. Violin Plots\n",
    "3. Swarm Plots\n",
    "4. Kernel Density Plots"
   ]
  },
  {
   "cell_type": "code",
   "execution_count": 23,
   "metadata": {},
   "outputs": [
    {
     "data": {
      "image/png": "[encoded data removed]",
      "text/plain": [
       "<Figure size 432x288 with 4 Axes>"
      ]
     },
     "metadata": {},
     "output_type": "display_data"
    }
   ],
   "source": [
    "fig = plt.figure()\n",
    "ax2 = fig.add_subplot(2, 2, 1)\n",
    "ax3 = fig.add_subplot(2, 2, 2)\n",
    "ax4 = fig.add_subplot(2, 2, 3)\n",
    "ax5 = fig.add_subplot(2, 2, 4)\n",
    "\n",
    "\n",
    "ax2 = sns.boxplot(data=data, ax=ax2, orient='h', color='blue')# winning candidate boxplot [12]\n",
    "ax2.set_title('Winner')\n",
    "ax3 = sns.boxplot(data=opp, ax=ax3, orient='h', color='red')\n",
    "ax4 = sns.distplot(data, ax=ax4, color='blue',kde=False) # winning candidate histogram [16]\n",
    "ax3.set_title('Loser')\n",
    "ax5 = sns.distplot(opp, ax=ax5, color='red',kde=False)\n",
    "\n"
   ]
  },
  {
   "cell_type": "markdown",
   "metadata": {},
   "source": [
    "##### 1. Box plots vs. Histograms\n",
    "\n",
    "Interestingly, if we compare the histograms of the height distributions - blue (presidents) , red (losing candidates), it shows that the heights of presidents (blue) are concentrated beyond the median in Q3 and Q4. In contrast, the heights of losing candidates are not left or right skewed and there are an equal number of heights in the lower quartiles.\n",
    "\n",
    "It is important to note that there are more values in the red distribution 'opp'. This can affect the appearance of the red distribution, giving it a false impression of strength against the blue histogram. In this regard, the box plot may be a better device for comparing distributions that do not have the same count of values."
   ]
  },
  {
   "cell_type": "code",
   "execution_count": 25,
   "metadata": {},
   "outputs": [
    {
     "data": {
      "image/png": "[encoded data removed]",
      "text/plain": [
       "<Figure size 432x288 with 4 Axes>"
      ]
     },
     "metadata": {},
     "output_type": "display_data"
    }
   ],
   "source": [
    "fig = plt.figure()\n",
    "ax2 = fig.add_subplot(2, 2, 1)\n",
    "ax3 = fig.add_subplot(2, 2, 2)\n",
    "ax4 = fig.add_subplot(2, 2, 3)\n",
    "ax5 = fig.add_subplot(2, 2, 4)\n",
    "\n",
    "\n",
    "ax2 = sns.boxplot(data=data, ax=ax2, orient='h', color='blue')# winning candidate boxplot\n",
    "ax2.set_title('Winner')\n",
    "ax3 = sns.boxplot(data=opp, ax=ax3, orient='h', color='red')\n",
    "ax3.set_title('Loser')\n",
    "ax4 = sns.violinplot(data, ax=ax4, color='blue') # winning candidate violin plot [17]\n",
    "ax5 = sns.violinplot(opp, ax=ax5, color='red')"
   ]
  },
  {
   "cell_type": "markdown",
   "metadata": {},
   "source": [
    "##### 2. Box Plots vs. Violin Plots\n",
    "\n",
    "The violin plots above are a combination of a box plot and a density plot. The median is marked by the white dot within the black box inside the violin plot [18]. The curve of the violin plot shows the distribution's shape.  Clearly the losing candidates' violin plot has a smooth normal distribution, while the distribution of winning candidates (blue) is skewed. That is more candidates are beyond the median height.  In this regard, the violin plot provides a useful visualisation of the distribution, but may be harder to read precisely."
   ]
  },
  {
   "cell_type": "code",
   "execution_count": 26,
   "metadata": {},
   "outputs": [
    {
     "data": {
      "image/png": "[encoded data removed]",
      "text/plain": [
       "<Figure size 432x288 with 4 Axes>"
      ]
     },
     "metadata": {},
     "output_type": "display_data"
    }
   ],
   "source": [
    "fig = plt.figure()\n",
    "ax2 = fig.add_subplot(2, 2, 1)\n",
    "ax3 = fig.add_subplot(2, 2, 2)\n",
    "ax4 = fig.add_subplot(2, 2, 3)\n",
    "ax5 = fig.add_subplot(2, 2, 4)\n",
    "\n",
    "\n",
    "ax2 = sns.boxplot(data=data, ax=ax2, orient='h', color='blue')# winning candidate boxplot\n",
    "ax2.set_title('Winner')\n",
    "ax3 = sns.boxplot(data=opp, ax=ax3, orient='h', color='red')\n",
    "ax3.set_title('Loser')\n",
    "ax4 = sns.swarmplot(data=data, ax=ax4, color='blue') # winning candidate swarmplot [19]\n",
    "ax5 = sns.swarmplot(data=opp, ax=ax5, color='red')"
   ]
  },
  {
   "cell_type": "markdown",
   "metadata": {},
   "source": [
    "##### 3. Box Plots vs. Swarm Plots\n",
    "\n",
    "The swarm plots above give an excellent visual description of both distributions and may be superior to the box plot and other types discussed for visualising this type of data. We can clearly see the median and where the values are concentrated, and the shape of the distribution is clearly shown. The advantage of this plot is that it clearly shows each of the actual values within each distribution and pinpoints them on a scale.  We can easily see that the winning presidents (blue) tend to be 182cm and over and that the height distribution of losing candidates (red) contains more values."
   ]
  },
  {
   "cell_type": "code",
   "execution_count": 31,
   "metadata": {},
   "outputs": [
    {
     "data": {
      "image/png": "[encoded data removed]",
      "text/plain": [
       "<Figure size 360x360 with 1 Axes>"
      ]
     },
     "metadata": {},
     "output_type": "display_data"
    }
   ],
   "source": [
    "fig, ax = plt.subplots(figsize=(5,5),sharey=True) # sharey=True allows both plots on same axes\n",
    "\n",
    "\n",
    "ax = sns.distplot(data, ax, color='blue', hist=False, label='Winner') # kwarg hist=False displays the kernel density plot\n",
    "ax = sns.distplot(opp, ax, color='red', hist=False, label='Loser')"
   ]
  },
  {
   "cell_type": "markdown",
   "metadata": {},
   "source": [
    "#### 4. Box Plots vs. Kernel Density Plots\n",
    "\n",
    "The kernel density plot is similar to a histogram and is used for continuous data such as measuring heights.  In this example, I have plotted the density of presidents (blue) and losing candidates (red) on the same axis.  It shows very clearly that the winning candidates tend to be a little taller.  This plot is excellent for comparing the two distributions as the divergence is clearly seen before the median point."
   ]
  },
  {
   "cell_type": "markdown",
   "metadata": {},
   "source": [
    "#### References:\n",
    "\n",
    "1. https://stackoverflow.com/questions/28035839/how-to-delete-a-column-from-a-data-frame-with-pandas\n",
    "2. https://pandas.pydata.org/pandas-docs/stable/generated/pandas.DataFrame.set_index.html\n",
    "3. https://en.wikipedia.org/wiki/Box_plot\n",
    "4. http://www.physics.csbsju.edu/stats/box2.html\n",
    "5. Graham, A., 2013. Statistics: A complete introduction. 7th ed. UK: Hodder & Stoughton\n",
    "6. https://en.wikipedia.org/wiki/Heights_of_presidents_and_presidential_candidates_of_the_United_States\n",
    "7. https://stackoverflow.com/questions/34794067/how-to-set-a-cell-to-nan-in-a-pandas-dataframe\n",
    "8. https://pandas.pydata.org/pandas-docs/stable/generated/pandas.DataFrame.dropna.html\n",
    "9. https://stackoverflow.com/questions/29568110/how-to-use-ax-with-pandas-and-matplotlib\n",
    "10. https://stattrek.com/statistics/charts/boxplot.aspx\n",
    "11. https://www.mathsisfun.com/data/quartiles.html\n",
    "12. http://seaborn.pydata.org/generated/seaborn.boxplot.html\n",
    "13. https://matplotlib.org/users/annotations_intro.html\n",
    "14. https://www.mathsisfun.com/data/percentiles.html\n",
    "15. https://docs.scipy.org/doc/numpy/reference/generated/numpy.percentile.html\n",
    "16. http://seaborn.pydata.org/generated/seaborn.distplot.html?highlight=distplot#seaborn.distplot\n",
    "17. https://seaborn.pydata.org/generated/seaborn.violinplot.html\n",
    "18 https://datavizcatalogue.com/methods/violin_plot.html\n",
    "19. https://seaborn.pydata.org/generated/seaborn.swarmplot.html?highlight=swarm%20plots\n",
    "20. https://matplotlib.org/gallery/subplots_axes_and_figures/shared_axis_demo.html?highlight=sharey"
   ]
  }
 ],
 "metadata": {
  "kernelspec": {
   "display_name": "Python 3",
   "language": "python",
   "name": "python3"
  },
  "language_info": {
   "codemirror_mode": {
    "name": "ipython",
    "version": 3
   },
   "file_extension": ".py",
   "mimetype": "text/x-python",
   "name": "python",
   "nbconvert_exporter": "python",
   "pygments_lexer": "ipython3",
   "version": "3.6.5"
  }
 },
 "nbformat": 4,
 "nbformat_minor": 2
}
